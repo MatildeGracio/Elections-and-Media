{
 "cells": [
  {
   "attachments": {},
   "cell_type": "markdown",
   "metadata": {},
   "source": [
    "# Create a dataframe of election dates by parsing the NDI website\n",
    "\n",
    "This script retrieves country and election codes for the NDI website.\n",
    "\n",
    "We use this code to build a DataFrame with election dates by country."
   ]
  },
  {
   "attachments": {},
   "cell_type": "markdown",
   "metadata": {},
   "source": [
    "#### First we get the country codes\n",
    "\n",
    "explicar qeue code_country.html for copiado diretamente do site para termos acesso aos codigos"
   ]
  },
  {
   "cell_type": "code",
   "execution_count": 2,
   "metadata": {},
   "outputs": [],
   "source": [
    "f = open(\"code_country.html\")\n",
    "\n",
    "out = open(\"ndi_country_codes.csv\",\"w\")\n",
    "out.write(\"Country,Code\\n\")\n",
    "for line in f:\n",
    "    line = line.strip()\n",
    "    line = line.split('\"')\n",
    "\n",
    "    if len(line) != 3:\n",
    "        continue\n",
    "   \n",
    "    code = line[1]  \n",
    "    line = line[2].split(\"</\")\n",
    "    line = line[0].split(\">\")\n",
    "    country = line[1]\n",
    "    out.write(country+\",\"+code+\"\\n\")\n",
    "\n",
    "out.close()"
   ]
  },
  {
   "attachments": {},
   "cell_type": "markdown",
   "metadata": {},
   "source": [
    "#### Second, we retrieve the codes for election types"
   ]
  },
  {
   "cell_type": "code",
   "execution_count": 3,
   "metadata": {},
   "outputs": [],
   "source": [
    "import pandas as pd\n",
    "import requests\n",
    "from bs4 import BeautifulSoup\n",
    "\n",
    "r = requests.get(\"https://www.ndi.org/elections-calendar-all\")\n",
    "soup = BeautifulSoup(r.content) \n",
    "\n",
    "everything_soup = soup.find_all(lambda tag: tag.name == \"select\")\n",
    "\n",
    "election_type_codes = {}\n",
    "soup.get_text()\n",
    "for sopa in everything_soup:\n",
    "    children = sopa.findChildren(\"option\")\n",
    "    skip_first = 2\n",
    "    for child in children:\n",
    "        if skip_first:\n",
    "            skip_first-=1\n",
    "            continue\n",
    "        election_type_value = child.get_attribute_list(\"value\")[0]\n",
    "        election_type = child.get_text()\n",
    "        election_type_codes[election_type] = election_type_value\n",
    "    break\n",
    "\n",
    "\n",
    "pd.DataFrame.from_dict(election_type_codes, orient=\"index\")\n",
    "\n",
    "ndi_type_election_codes_2 = pd.DataFrame.from_dict(election_type_codes, orient = \"index\", columns=[\"Code\"])\n",
    "ndi_type_election_codes = ndi_type_election_codes_2.rename_axis('Election Type').reset_index()\n",
    "\n",
    "ndi_type_election_codes.to_csv(\"ndi_type_election_codes.csv\")"
   ]
  },
  {
   "attachments": {},
   "cell_type": "markdown",
   "metadata": {},
   "source": [
    "#### Now that we have everyting, we can buid NDI's urls and retrieve all information"
   ]
  },
  {
   "cell_type": "code",
   "execution_count": 4,
   "metadata": {},
   "outputs": [],
   "source": [
    "from selenium import webdriver\n",
    "from selenium.webdriver.common.keys import Keys\n",
    "from selenium.webdriver.common.by import By\n",
    "from selenium.webdriver.chrome.options import Options\n",
    "from selenium.common.exceptions import StaleElementReferenceException\n",
    "import pandas as pd\n",
    "import time\n",
    "from dateutil.parser import parse\n",
    "\n",
    "options = Options()\n",
    "fireFoxOptions = webdriver.FirefoxOptions()\n",
    "fireFoxOptions.add_argument(\"--headless\")\n",
    "browser = webdriver.Firefox(options=fireFoxOptions)\n",
    "\n",
    "country_codes = pd.read_csv(\"ndi_country_codes.csv\")\n",
    "election_type_codes = pd.read_csv(\"ndi_type_election_codes.csv\")\n",
    "years = range(2006,2022)"
   ]
  },
  {
   "attachments": {},
   "cell_type": "markdown",
   "metadata": {},
   "source": [
    "# Define which countries we are interested in\n",
    "\n",
    "we do so by refering to an afrobarometer dataset and using country converter to assert country names are normalized"
   ]
  },
  {
   "cell_type": "code",
   "execution_count": 13,
   "metadata": {},
   "outputs": [],
   "source": [
    "import country_converter as coco\n",
    "\n",
    "df = pd.read_spss(\"../Afrobarometer/r7_merged.sav\",usecols=[\"COUNTRY\"])\n",
    "df[\"COUNTRY\"] = coco.convert(names=df.COUNTRY.tolist(), to='name_short', not_found = None)\n",
    "my_countries = df[\"COUNTRY\"].unique()"
   ]
  },
  {
   "cell_type": "code",
   "execution_count": 19,
   "metadata": {},
   "outputs": [
    {
     "name": "stdout",
     "output_type": "stream",
     "text": [
      "Fecthing data for Benin\n",
      "Fecthing data for Botswana\n",
      "Fecthing data for Burkina Faso\n",
      "Fecthing data for Cameroon\n",
      "Fecthing data for Gabon\n",
      "Fecthing data for Ghana\n",
      "Fecthing data for Guinea\n",
      "Fecthing data for Kenya\n",
      "Fecthing data for Lesotho\n",
      "Fecthing data for Liberia\n",
      "Fecthing data for Madagascar\n",
      "Fecthing data for Malawi\n",
      "Fecthing data for Mali\n",
      "Fecthing data for Mauritius\n",
      "Fecthing data for Morocco\n",
      "Fecthing data for Mozambique\n",
      "Fecthing data for Namibia\n",
      "Fecthing data for Niger\n",
      "Fecthing data for Nigeria\n",
      "Fecthing data for Sao Tome and Principe\n",
      "Fecthing data for Senegal\n",
      "Fecthing data for Sierra Leone\n",
      "Fecthing data for South Africa\n",
      "Fecthing data for Sudan\n",
      "Fecthing data for Tanzania\n",
      "Fecthing data for Togo\n",
      "Fecthing data for Tunisia\n",
      "Fecthing data for Uganda\n",
      "Fecthing data for Zambia\n",
      "Fecthing data for Zimbabwe\n"
     ]
    }
   ],
   "source": [
    "elections = []\n",
    "\n",
    "for i in range(len(country_codes.index)):\n",
    "    country_code = country_codes.iloc[i][\"Code\"]\n",
    "    country_name = country_codes.iloc[i][\"Country\"]\n",
    "\n",
    "    if country_name not in my_countries:\n",
    "        continue\n",
    "\n",
    "    print(\"Fecthing data for \"+country_name)\n",
    "    \n",
    "    for j in range(len(election_type_codes.index)):\n",
    "        election_type_code = election_type_codes.iloc[j][\"Code\"]\n",
    "        election_type_name = election_type_codes.iloc[j][\"Election Type\"]\n",
    "\n",
    "        url = \"https://www.ndi.org/elections-calendar-all?country=\"+str(country_code)+\"&election_type=\"+str(election_type_code)\n",
    "        \n",
    "        browser.get(url)\n",
    "        time.sleep(5)\n",
    "        while True:\n",
    "            try:\n",
    "                tags_dates = browser.find_elements(By.CLASS_NAME,\"date-display-single\")\n",
    "                break\n",
    "            except StaleElementReferenceException as e:\n",
    "                time.sleep(0.2)\n",
    "                continue\n",
    "        \n",
    "        for tag in tags_dates:\n",
    "            if tag.text.__contains__(\"ALL DAY\"):\n",
    "                date = parse(tag.text.split('(')[0])\n",
    "            else:\n",
    "                date = parse(tag.text)\n",
    "            elections.append((country_name,election_type_name,date))       \n",
    "    "
   ]
  },
  {
   "cell_type": "code",
   "execution_count": 20,
   "metadata": {},
   "outputs": [],
   "source": [
    "dff = pd.DataFrame(elections,columns=[\"Country\",\"Election type\",\"date\"])\n",
    "dff[\"Country\"].unique()\n",
    "\n",
    "dff.to_csv(\"NDI_election_dates.csv\")"
   ]
  },
  {
   "cell_type": "code",
   "execution_count": 21,
   "metadata": {},
   "outputs": [],
   "source": [
    "df = pd.read_csv(\"NDI_election_dates.csv\",index_col=[0])\n",
    "df.to_parquet(\"election_dates.parquet\")"
   ]
  }
 ],
 "metadata": {
  "kernelspec": {
   "display_name": "Python 3",
   "language": "python",
   "name": "python3"
  },
  "language_info": {
   "codemirror_mode": {
    "name": "ipython",
    "version": 3
   },
   "file_extension": ".py",
   "mimetype": "text/x-python",
   "name": "python",
   "nbconvert_exporter": "python",
   "pygments_lexer": "ipython3",
   "version": "3.11.0"
  },
  "orig_nbformat": 4,
  "vscode": {
   "interpreter": {
    "hash": "61a3d11bd47f39628cb056bcb43f784eeafc9c3cee8b202189683def1803e43f"
   }
  }
 },
 "nbformat": 4,
 "nbformat_minor": 2
}
