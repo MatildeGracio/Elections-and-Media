{
 "cells": [
  {
   "cell_type": "code",
   "execution_count": 36,
   "metadata": {},
   "outputs": [],
   "source": [
    "from pandas import Timedelta\n",
    "import country_converter as coco\n",
    "import numpy as np"
   ]
  },
  {
   "attachments": {},
   "cell_type": "markdown",
   "metadata": {},
   "source": [
    "#### **Import National Democratic Institute (NDI) dataset**\n",
    "##### This dataset spans from 2006 until 2023"
   ]
  },
  {
   "cell_type": "code",
   "execution_count": 37,
   "metadata": {},
   "outputs": [],
   "source": [
    "import pandas as pd\n",
    "df_ndi = pd.read_parquet(\"../NDI/election_dates.parquet\")"
   ]
  },
  {
   "attachments": {},
   "cell_type": "markdown",
   "metadata": {},
   "source": [
    "#### **Prepare NDI dataset**\n",
    "1. Change the columns name to match the next dataset\n",
    "2. Change the date type to date\n",
    "3. Run countries through coco \n",
    "4. Uniformize election type names\n",
    "5. Add column source"
   ]
  },
  {
   "cell_type": "code",
   "execution_count": 38,
   "metadata": {},
   "outputs": [],
   "source": [
    "df_ndi.rename(columns = {'Election type': 'Election_type','date':'Date'}, inplace = True)\n",
    "\n",
    "df_ndi[\"Date\"] = pd.to_datetime(df_ndi[\"Date\"])\n",
    "\n",
    "df_ndi[\"Country\"] = coco.convert(names=df_ndi[\"Country\"], to='name_short')\n",
    "\n",
    "matches_1 = [(\"Senatorial By-Election\",\"Senatorial\"), (\"Presidential By-election\", \"Presidential\")]\n",
    "\n",
    "for x in matches_1:\n",
    "    df_ndi[\"Election_type\"] = df_ndi[\"Election_type\"].str.replace(x[0], x[1])\n",
    "\n",
    "df_ndi['Source'] = \"NDI\""
   ]
  },
  {
   "attachments": {},
   "cell_type": "markdown",
   "metadata": {},
   "source": [
    "#### **Import Wikipedia dataset**\n",
    "##### This dataset is for the years of 2013, 2015, 2016, 2017, and 2018."
   ]
  },
  {
   "cell_type": "code",
   "execution_count": 40,
   "metadata": {},
   "outputs": [],
   "source": [
    "df_wiki = pd.read_parquet('../Wiki elections parser/election_dates_wiki.parquet')"
   ]
  },
  {
   "attachments": {},
   "cell_type": "markdown",
   "metadata": {},
   "source": [
    "#### **Prepare Wikipedia dataset**\n",
    "1. Run countries through coco\n",
    "2. Uniformize election type with NDI dataset\n",
    "3. Add column source"
   ]
  },
  {
   "cell_type": "code",
   "execution_count": 41,
   "metadata": {},
   "outputs": [],
   "source": [
    "df_wiki[\"Country\"] = coco.convert(names=df_wiki[\"Country\"], to='name_short')\n",
    "\n",
    "matches_2 = [('municipal election', 'Municipal'),('gubernatorial election', 'Gubernatorial') ,\n",
    "             ('national assembly', 'National assembly'),('local elections', 'Local'),('constitutional referendum', 'Referendum'),\n",
    "             ('legislative election', 'Legislative'),('parliamentary election','Parliamentary'), ('general election','General'),\n",
    "             ('presidential election','Presidential')]\n",
    "\n",
    "for x in matches_2:\n",
    "    df_wiki[\"Election_type\"] = df_wiki[\"Election_type\"].str.replace(x[0], x[1])\n",
    "\n",
    "df_wiki[\"Source\"] = \"Wikipedia\""
   ]
  },
  {
   "attachments": {},
   "cell_type": "markdown",
   "metadata": {},
   "source": [
    "#### **Join the datasets from the two sources**\n",
    "Merging the NDI and the Wikipedia dataset. This is necessary given that when validating the NDI dataset, it became apparent that not all elections were posted there."
   ]
  },
  {
   "cell_type": "code",
   "execution_count": 42,
   "metadata": {},
   "outputs": [],
   "source": [
    "df_elections = pd.concat([df_ndi,df_wiki])"
   ]
  },
  {
   "attachments": {},
   "cell_type": "markdown",
   "metadata": {},
   "source": [
    "#### **Prepare the final election dataset**\n",
    "1. Remove the time from the Date column\n",
    "2. Drop the duplicate observations\n",
    "3. Sort the dataset by Date"
   ]
  },
  {
   "cell_type": "code",
   "execution_count": 43,
   "metadata": {},
   "outputs": [],
   "source": [
    "df_elections['Date'] = pd.to_datetime(df_elections['Date']).dt.date\n",
    "\n",
    "df_elections.drop_duplicates(subset=[\"Country\",\"Election_type\",\"Date\"],inplace=True)"
   ]
  },
  {
   "attachments": {},
   "cell_type": "markdown",
   "metadata": {},
   "source": [
    "#### **Import the Afrobarometer dataset**\n",
    "Import rounds 2 through 7 of the Afrobarometer surveys. \n",
    "\n",
    "For each round we will:\n",
    "1. Import only the variables of interest \n",
    "2. Run coco through the countries\n",
    "3. Change the variable names\n",
    "4. Merge all rounds"
   ]
  },
  {
   "cell_type": "code",
   "execution_count": 44,
   "metadata": {},
   "outputs": [],
   "source": [
    "df_AB_2 = pd.read_spss(\"../Afrobarometer/r2_merged.sav\", usecols=[\"q26a\",\"q26b\",\"q26c\",\"dateintr\",\"country\"])\n",
    "df_AB_2[\"country\"] = coco.convert(names=df_AB_2[\"country\"], to='name_short')\n",
    "df_AB_2.rename(columns = {'q26a': 'Radio','q26b':'Television', 'q26c': 'Newspaper','dateintr': 'DATEINTR','country':'COUNTRY' }, inplace = True)\n",
    "\n",
    "df_AB_3 = pd.read_spss(\"../Afrobarometer/r3_merged.sav\", usecols=[\"q15a\",\"q15b\",\"q15c\",\"dateintr\",\"country\"])\n",
    "df_AB_3[\"country\"] = coco.convert(names=df_AB_3[\"country\"], to='name_short')\n",
    "df_AB_3.rename(columns = {'q15a': 'Radio','q15b':'Television', 'q15c': 'Newspaper','dateintr': 'DATEINTR','country':'COUNTRY' }, inplace = True)\n",
    "\n",
    "df_AB_4 = pd.read_spss(\"../Afrobarometer/r4_merged.sav\", usecols=[\"Q12A\",\"Q12B\",\"Q12C\",\"DATEINTR\",\"COUNTRY\"])\n",
    "df_AB_4[\"COUNTRY\"] = coco.convert(names=df_AB_4[\"COUNTRY\"], to='name_short')\n",
    "df_AB_4.rename(columns = {'Q12A': 'Radio','Q12B':'Television', 'Q12C': 'Newspaper'}, inplace = True)\n",
    "\n",
    "df_AB_5 = pd.read_spss(\"../Afrobarometer/r5_merged.sav\", usecols=[\"Q13A\",\"Q13B\",\"Q13C\",\"Q13D\",\"DATEINTR\",\"COUNTRY\"])\n",
    "df_AB_5[\"COUNTRY\"] = coco.convert(names=df_AB_5[\"COUNTRY\"], to='name_short')\n",
    "df_AB_5.rename(columns = {'Q13A': 'Radio','Q13B':'Television', 'Q13C': 'Newspaper', 'Q13D':'Internet'}, inplace = True)\n",
    "\n",
    "df_AB_6 = pd.read_spss(\"../Afrobarometer/r6_merged.sav\", usecols= [\"Q12A\",\"Q12B\",\"Q12C\",\"Q12D\",\"Q12E\",\"DATEINTR\",\"COUNTRY\"])\n",
    "df_AB_6[\"COUNTRY\"] = coco.convert(names=df_AB_6[\"COUNTRY\"], to='name_short')\n",
    "df_AB_6.rename(columns = {'Q12A': 'Radio','Q12B':'Television', 'Q12C': 'Newspaper', 'Q12D':'Internet', 'Q12E':'Social_Media'}, inplace = True)\n",
    "\n",
    "df_AB_7 = pd.read_spss(\"../Afrobarometer/r7_merged.sav\", usecols=[\"Q12A\",\"Q12B\",\"Q12C\",\"Q12D\",\"Q12E\",\"DATEINTR\",\"COUNTRY\"])\n",
    "df_AB_7 [\"COUNTRY\"] = coco.convert(names=df_AB_7[\"COUNTRY\"], to='name_short')\n",
    "df_AB_7 .rename(columns = {'Q12A': 'Radio','Q12B':'Television', 'Q12C': 'Newspaper', 'Q12D':'Internet', 'Q12E':'Social_Media'}, inplace = True)\n",
    "\n",
    "df = pd.concat([df_AB_2,df_AB_3,df_AB_4,df_AB_5,df_AB_6,df_AB_7])"
   ]
  },
  {
   "attachments": {},
   "cell_type": "markdown",
   "metadata": {},
   "source": [
    "#### **Prepare the Afrobarometer dataset**\n",
    "1. Clean the variables of interest - codebook lists [9=Don’t know, 8=Refused to answer, -1=Missing]. Transform these into missing values\n",
    "2. Change the categorical variables to numeric ones - codebook lists 0=Never, 1=Less than once a month, 2=A few times a month, 3=A few times a week, 4=Every day"
   ]
  },
  {
   "cell_type": "code",
   "execution_count": 45,
   "metadata": {},
   "outputs": [],
   "source": [
    "missing_values=[\"Don't know\",\"Refused\",\"Missing\"]\n",
    "df=df.replace(missing_values,np.nan)\n",
    "\n",
    "media = ['Radio', 'Television', 'Newspaper', 'Internet', 'Social_Media']\n",
    "for i in media:\n",
    "    df[i].replace(['Never', 'Less than once a month', 'A few times a month', 'A few times a week', 'Every day'], [0, 1, 2, 3 ,4], inplace=True)\n",
    "    df[i] = pd.to_numeric(df[i])"
   ]
  },
  {
   "attachments": {},
   "cell_type": "markdown",
   "metadata": {},
   "source": [
    "#### **Create a least of countries where the dates of interview spans less than 4383 days (12 years)**"
   ]
  },
  {
   "cell_type": "code",
   "execution_count": 46,
   "metadata": {},
   "outputs": [],
   "source": [
    "countries_list = df[\"COUNTRY\"].unique()\n",
    "dates_list = df[\"DATEINTR\"].unique()\n",
    "drop_countries = []\n",
    "\n",
    "for country in countries_list:\n",
    "    df_country = df[df[\"COUNTRY\"]== country]\n",
    "    time_span = df_country[\"DATEINTR\"].max()-df_country[\"DATEINTR\"].min()\n",
    "    if time_span.days<4383:\n",
    "        drop_countries.append(country)\n"
   ]
  },
  {
   "attachments": {},
   "cell_type": "markdown",
   "metadata": {},
   "source": [
    "#### **Drop the rows of the countries where the dates of interviews span less than 12 years**"
   ]
  },
  {
   "cell_type": "code",
   "execution_count": 47,
   "metadata": {},
   "outputs": [],
   "source": [
    "for country in drop_countries:\n",
    "    index_country = df[(df['COUNTRY'] == country)].index\n",
    "    df.drop(index_country , inplace=True)"
   ]
  },
  {
   "attachments": {},
   "cell_type": "markdown",
   "metadata": {},
   "source": [
    "#### **Create the distance variable**\n",
    "1. This will be the distance between the interview date and the next presidential, general, legislative or parlimentary election"
   ]
  },
  {
   "cell_type": "code",
   "execution_count": 49,
   "metadata": {},
   "outputs": [],
   "source": [
    "election_type = ['Presidential', 'General', 'Legislative', 'Parliamentary']\n",
    "def next_presidential_general_date(r):\n",
    "    country = r[\"COUNTRY\"]\n",
    "    itrdate = r[\"DATEINTR\"]\n",
    "    country_elections_1 = df_elections[df_elections[\"Country\"] == country]\n",
    "    country_elections_2 = country_elections_1[country_elections_1[\"Election_type\"].isin(election_type)]\n",
    "    country_elections_2[\"Dif\"] = country_elections_2[\"Date\"] - itrdate\n",
    "    country_elections_2.sort_values(by=\"Dif\",inplace=True)\n",
    "    return country_elections_2[country_elections_2[\"Dif\"] > Timedelta(0)].iloc[0][\"Dif\"]\n",
    "      \n",
    "df[\"Days_until_election\"] = df.apply(next_presidential_general_date,axis=1)"
   ]
  },
  {
   "attachments": {},
   "cell_type": "markdown",
   "metadata": {},
   "source": [
    "#### **Create Quarters until election variable**"
   ]
  },
  {
   "cell_type": "code",
   "execution_count": 50,
   "metadata": {},
   "outputs": [],
   "source": [
    "df[\"Quarters_until_election\"] = df[\"Days_until_election\"].dt.days/(365.25/4)\n",
    "df[\"Quarters_until_election\"] = df[\"Quarters_until_election\"].apply(np.floor).astype(int)"
   ]
  },
  {
   "attachments": {},
   "cell_type": "markdown",
   "metadata": {},
   "source": [
    "#### **Create Mean variables for the different media types by country and quarters until the next election**\n"
   ]
  },
  {
   "cell_type": "code",
   "execution_count": 52,
   "metadata": {},
   "outputs": [],
   "source": [
    "df_means = pd.DataFrame(columns=['COUNTRY', 'Quarters_until_election', 'Radio', 'TV', 'Newspaper', 'Internet',\n",
    "                                  'Social Media', \"All\"])\n",
    "df_means_index = 0\n",
    "\n",
    "media_types = [\"Radio\",\"Television\",\"Newspaper\",\"Internet\",\"Social_Media\"]\n",
    "\n",
    "for country in df[\"COUNTRY\"].unique():\n",
    "    df_country = df[df[\"COUNTRY\"] == country]\n",
    "\n",
    "    means = []\n",
    "    for mt in media_types:\n",
    "        means.append(df_country.groupby(['Quarters_until_election'], dropna=True)[mt].mean())\n",
    "    \n",
    "    for j in range(len(means[0])):\n",
    "        df_row = [country]\n",
    "        df_row.append(j+1)\n",
    "\n",
    "        sum = 0\n",
    "        n_sum = 0\n",
    "        for media_means in means:\n",
    "            df_row.append(media_means.iloc[j])\n",
    "\n",
    "            # Compute mean for all available media\n",
    "            if not pd.isna(media_means.iloc[j]):\n",
    "                sum += media_means.iloc[j]\n",
    "                n_sum += 1\n",
    "        df_row.append(sum/n_sum)\n",
    "\n",
    "        df_means.loc[df_means_index] = df_row\n",
    "        df_means_index += 1"
   ]
  },
  {
   "cell_type": "code",
   "execution_count": 53,
   "metadata": {},
   "outputs": [],
   "source": [
    "%matplotlib widget\n",
    "import matplotlib.pyplot as plt\n",
    "from ipywidgets import *"
   ]
  },
  {
   "attachments": {},
   "cell_type": "markdown",
   "metadata": {},
   "source": [
    "#### **Create the visualizations**"
   ]
  },
  {
   "cell_type": "code",
   "execution_count": 54,
   "metadata": {},
   "outputs": [
    {
     "data": {
      "application/vnd.jupyter.widget-view+json": {
       "model_id": "2e321410b1fa445d88a0d1052ed99a8b",
       "version_major": 2,
       "version_minor": 0
      },
      "text/plain": [
       "VBox(children=(Dropdown(description='Country', options=('All', 'Cabo Verde', 'Ghana', 'Kenya', 'Lesotho', 'Mad…"
      ]
     },
     "execution_count": 54,
     "metadata": {},
     "output_type": "execute_result"
    },
    {
     "data": {
      "application/vnd.jupyter.widget-view+json": {
       "model_id": "3eee11fb1ce84f038f03869b4d515dc0",
       "version_major": 2,
       "version_minor": 0
      },
      "image/png": "[encoded data removed]",
      "text/html": [
       "\n",
       "            <div style=\"display: inline-block;\">\n",
       "                <div class=\"jupyter-widgets widget-label\" style=\"text-align: center;\">\n",
       "                    Figure\n",
       "                </div>\n",
       "                <img src='data:image/png;base64,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' width=640.0/>\n",
       "            </div>\n",
       "        "
      ],
      "text/plain": [
       "Canvas(toolbar=Toolbar(toolitems=[('Home', 'Reset original view', 'home', 'home'), ('Back', 'Back to previous …"
      ]
     },
     "metadata": {},
     "output_type": "display_data"
    }
   ],
   "source": [
    "fig, ax = plt.subplots()\n",
    "fig.suptitle('Proximity to elections and media consumption', fontsize=10)\n",
    "\n",
    "line, = ax.plot(df_means[\"Quarters_until_election\"],df_means[\"All\"], \"bo\")\n",
    "\n",
    "country = \"All\"\n",
    "media = \"All\"\n",
    "\n",
    "def update():\n",
    "\n",
    "    global country\n",
    "    global media\n",
    "\n",
    "    if country == \"All\":\n",
    "        df_country = df_means\n",
    "    else:\n",
    "        df_country = df_means[df_means[\"COUNTRY\"] == country]\n",
    "\n",
    "    line.set_data(df_country[\"Quarters_until_election\"],df_country[media])\n",
    "    fig.canvas.draw()\n",
    "\n",
    "\n",
    "def update_country(ucountry = 'All'):\n",
    "    global country\n",
    "    country = ucountry.new\n",
    "    update()\n",
    "\n",
    "def update_media(umedia = \"All\"):\n",
    "    global media\n",
    "    media = umedia.new\n",
    "    update()\n",
    "\n",
    "\n",
    "dropdown_country = widgets.Dropdown(\n",
    "    value = 'All', \n",
    "    options = sorted(np.append(df[\"COUNTRY\"].unique(),[\"All\"])),\n",
    "    description = 'Country'\n",
    ")\n",
    "\n",
    "dropdown_media = widgets.Dropdown(\n",
    "    value = \"All\",\n",
    "    options = sorted(['Radio', 'TV', 'Newspaper', 'Internet', 'Social Media', \"All\"]),\n",
    "    description = \"Media source\"   \n",
    ")\n",
    "\n",
    "\n",
    "dropdown_country.observe(update_country, \"value\")\n",
    "dropdown_media.observe(update_media,\"value\")\n",
    "\n",
    "\n",
    "\n",
    "widgets.VBox(\n",
    "    [\n",
    "        dropdown_country,\n",
    "        dropdown_media\n",
    "    ]\n",
    ")\n"
   ]
  }
 ],
 "metadata": {
  "kernelspec": {
   "display_name": "Python 3",
   "language": "python",
   "name": "python3"
  },
  "language_info": {
   "codemirror_mode": {
    "name": "ipython",
    "version": 3
   },
   "file_extension": ".py",
   "mimetype": "text/x-python",
   "name": "python",
   "nbconvert_exporter": "python",
   "pygments_lexer": "ipython3",
   "version": "3.11.0"
  },
  "orig_nbformat": 4,
  "vscode": {
   "interpreter": {
    "hash": "61a3d11bd47f39628cb056bcb43f784eeafc9c3cee8b202189683def1803e43f"
   }
  }
 },
 "nbformat": 4,
 "nbformat_minor": 2
}
