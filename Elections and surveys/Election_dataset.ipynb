{
 "cells": [
  {
   "cell_type": "code",
   "execution_count": 2,
   "metadata": {},
   "outputs": [],
   "source": [
    "from pandas import Timedelta\n",
    "import country_converter as coco\n",
    "import numpy as np"
   ]
  },
  {
   "attachments": {},
   "cell_type": "markdown",
   "metadata": {},
   "source": [
    "#### **Import National Democratic Institute (NDI) dataset**\n",
    "##### This dataset spans from 2006 until 2022"
   ]
  },
  {
   "cell_type": "code",
   "execution_count": 3,
   "metadata": {},
   "outputs": [],
   "source": [
    "import pandas as pd\n",
    "df_ndi = pd.read_parquet(\"../NDI/election_dates.parquet\")"
   ]
  },
  {
   "attachments": {},
   "cell_type": "markdown",
   "metadata": {},
   "source": [
    "#### **Prepare NDI dataset**\n",
    "1. Change the columns name to match the next dataset\n",
    "2. Change the date type to date\n",
    "3. Run countries through coco \n",
    "4. Uniformize election type names\n",
    "5. Add column source"
   ]
  },
  {
   "cell_type": "code",
   "execution_count": 4,
   "metadata": {},
   "outputs": [],
   "source": [
    "df_ndi.rename(columns = {'Election type': 'Election_type','date':'Date'}, inplace = True)\n",
    "\n",
    "df_ndi[\"Date\"] = pd.to_datetime(df_ndi[\"Date\"])\n",
    "\n",
    "df_ndi[\"Country\"] = coco.convert(names=df_ndi[\"Country\"], to='name_short')\n",
    "\n",
    "matches_1 = [(\"Senatorial By-Election\",\"Senatorial\"), (\"Presidential By-election\", \"Presidential\")]\n",
    "\n",
    "for x in matches_1:\n",
    "    df_ndi[\"Election_type\"] = df_ndi[\"Election_type\"].str.replace(x[0], x[1])\n",
    "\n",
    "df_ndi['Source'] = \"NDI\""
   ]
  },
  {
   "attachments": {},
   "cell_type": "markdown",
   "metadata": {},
   "source": [
    "#### **Import Wikipedia dataset**\n",
    "##### This dataset is for the years of 2013, 2015, 2016, 2017, and 2018."
   ]
  },
  {
   "cell_type": "code",
   "execution_count": 5,
   "metadata": {},
   "outputs": [],
   "source": [
    "df_wiki = pd.read_parquet('../Wiki elections parser/election_dates_wiki.parquet')"
   ]
  },
  {
   "attachments": {},
   "cell_type": "markdown",
   "metadata": {},
   "source": [
    "#### **Prepare Wikipedia dataset**\n",
    "1. Run countries through coco\n",
    "2. Uniformize election type with NDI dataset\n",
    "3. Add column source"
   ]
  },
  {
   "cell_type": "code",
   "execution_count": 6,
   "metadata": {},
   "outputs": [],
   "source": [
    "df_wiki[\"Country\"] = coco.convert(names=df_wiki[\"Country\"], to='name_short')\n",
    "\n",
    "matches_2 = [('municipal election', 'Municipal'),('gubernatorial election', 'Gubernatorial') ,\n",
    "             ('national assembly', 'National assembly'),('local elections', 'Local'),('constitutional referendum', 'Referendum'),\n",
    "             ('legislative election', 'Legislative'),('parliamentary election','Parliamentary'), ('general election','General'),\n",
    "             ('presidential election','Presidential')]\n",
    "\n",
    "for x in matches_2:\n",
    "    df_wiki[\"Election_type\"] = df_wiki[\"Election_type\"].str.replace(x[0], x[1])\n",
    "\n",
    "df_wiki[\"Source\"] = \"Wikipedia\""
   ]
  },
  {
   "attachments": {},
   "cell_type": "markdown",
   "metadata": {},
   "source": [
    "#### **Join the datasets from the two sources**\n",
    "Merging the NDI and the Wikipedia dataset. This is necessary given that when validating the NDI dataset, it became apparent that not all elections were posted there."
   ]
  },
  {
   "cell_type": "code",
   "execution_count": 7,
   "metadata": {},
   "outputs": [],
   "source": [
    "df_elections = pd.concat([df_ndi,df_wiki])"
   ]
  },
  {
   "attachments": {},
   "cell_type": "markdown",
   "metadata": {},
   "source": [
    "#### **Prepare the final election dataset**\n",
    "1. Remove the time from the Date column\n",
    "2. Drop the duplicate observations\n",
    "3. Sort the dataset by Date"
   ]
  },
  {
   "cell_type": "code",
   "execution_count": 8,
   "metadata": {},
   "outputs": [],
   "source": [
    "df_elections['Date'] = pd.to_datetime(df_elections['Date']).dt.date\n",
    "\n",
    "df_elections.drop_duplicates(subset=[\"Country\",\"Election_type\",\"Date\"],inplace=True)"
   ]
  },
  {
   "attachments": {},
   "cell_type": "markdown",
   "metadata": {},
   "source": [
    "#### **Import the Afrobarometer dataset**\n",
    "Import rounds 2 through 7 of the Afrobarometer surveys. \n",
    "\n",
    "For each round we will:\n",
    "1. Import only the variables of interest \n",
    "2. Run coco through the countries\n",
    "3. Change the variable names\n",
    "4. Merge all rounds"
   ]
  },
  {
   "cell_type": "code",
   "execution_count": 9,
   "metadata": {},
   "outputs": [],
   "source": [
    "df_AB_2 = pd.read_spss(\"../Afrobarometer/r2_merged.sav\", usecols=[\"q26a\",\"q26b\",\"q26c\",\"dateintr\",\"country\"])\n",
    "df_AB_2[\"country\"] = coco.convert(names=df_AB_2[\"country\"], to='name_short')\n",
    "df_AB_2.rename(columns = {'q26a': 'Radio','q26b':'Television', 'q26c': 'Newspaper','dateintr': 'DATEINTR','country':'COUNTRY' }, inplace = True)\n",
    "\n",
    "df_AB_3 = pd.read_spss(\"../Afrobarometer/r3_merged.sav\", usecols=[\"q15a\",\"q15b\",\"q15c\",\"dateintr\",\"country\"])\n",
    "df_AB_3[\"country\"] = coco.convert(names=df_AB_3[\"country\"], to='name_short')\n",
    "df_AB_3.rename(columns = {'q15a': 'Radio','q15b':'Television', 'q15c': 'Newspaper','dateintr': 'DATEINTR','country':'COUNTRY' }, inplace = True)\n",
    "\n",
    "df_AB_4 = pd.read_spss(\"../Afrobarometer/r4_merged.sav\", usecols=[\"Q12A\",\"Q12B\",\"Q12C\",\"DATEINTR\",\"COUNTRY\"])\n",
    "df_AB_4[\"COUNTRY\"] = coco.convert(names=df_AB_4[\"COUNTRY\"], to='name_short')\n",
    "df_AB_4.rename(columns = {'Q12A': 'Radio','Q12B':'Television', 'Q12C': 'Newspaper'}, inplace = True)\n",
    "\n",
    "df_AB_5 = pd.read_spss(\"../Afrobarometer/r5_merged.sav\", usecols=[\"Q13A\",\"Q13B\",\"Q13C\",\"Q13D\",\"DATEINTR\",\"COUNTRY\"])\n",
    "df_AB_5[\"COUNTRY\"] = coco.convert(names=df_AB_5[\"COUNTRY\"], to='name_short')\n",
    "df_AB_5.rename(columns = {'Q13A': 'Radio','Q13B':'Television', 'Q13C': 'Newspaper', 'Q13D':'Internet'}, inplace = True)\n",
    "\n",
    "df_AB_6 = pd.read_spss(\"../Afrobarometer/r6_merged.sav\", usecols= [\"Q12A\",\"Q12B\",\"Q12C\",\"Q12D\",\"Q12E\",\"DATEINTR\",\"COUNTRY\"])\n",
    "df_AB_6[\"COUNTRY\"] = coco.convert(names=df_AB_6[\"COUNTRY\"], to='name_short')\n",
    "df_AB_6.rename(columns = {'Q12A': 'Radio','Q12B':'Television', 'Q12C': 'Newspaper', 'Q12D':'Internet', 'Q12E':'Social_Media'}, inplace = True)\n",
    "\n",
    "df_AB_7 = pd.read_spss(\"../Afrobarometer/r7_merged.sav\", usecols=[\"Q12A\",\"Q12B\",\"Q12C\",\"Q12D\",\"Q12E\",\"DATEINTR\",\"COUNTRY\"])\n",
    "df_AB_7 [\"COUNTRY\"] = coco.convert(names=df_AB_7[\"COUNTRY\"], to='name_short')\n",
    "df_AB_7 .rename(columns = {'Q12A': 'Radio','Q12B':'Television', 'Q12C': 'Newspaper', 'Q12D':'Internet', 'Q12E':'Social_Media'}, inplace = True)\n",
    "\n",
    "df = pd.concat([df_AB_2,df_AB_3,df_AB_4,df_AB_5,df_AB_6,df_AB_7])"
   ]
  },
  {
   "attachments": {},
   "cell_type": "markdown",
   "metadata": {},
   "source": [
    "#### **Prepare the Afrobarometer dataset**\n",
    "1. Clean the variables of interest - codebook lists [9=Don’t know, 8=Refused to answer, -1=Missing]. Transform these into missing values\n",
    "2. Change the categorical variables to numeric ones - codebook lists 0=Never, 1=Less than once a month, 2=A few times a month, 3=A few times a week, 4=Every day"
   ]
  },
  {
   "cell_type": "code",
   "execution_count": 10,
   "metadata": {},
   "outputs": [],
   "source": [
    "missing_values=[\"Don't know\",\"Refused\",\"Missing\"]\n",
    "df=df.replace(missing_values,np.nan)\n",
    "\n",
    "media = ['Radio', 'Television', 'Newspaper', 'Internet', 'Social_Media']\n",
    "for i in media:\n",
    "    df[i].replace(['Never', 'Less than once a month', 'A few times a month', 'A few times a week', 'Every day'], [0, 1, 2, 3 ,4], inplace=True)\n",
    "    df[i] = pd.to_numeric(df[i])"
   ]
  },
  {
   "attachments": {},
   "cell_type": "markdown",
   "metadata": {},
   "source": [
    "#### **Create a list of countries where the dates of interview spans less than 4383 days (12 years)**"
   ]
  },
  {
   "cell_type": "code",
   "execution_count": 11,
   "metadata": {},
   "outputs": [],
   "source": [
    "countries_list = df[\"COUNTRY\"].unique()\n",
    "dates_list = df[\"DATEINTR\"].unique()\n",
    "drop_countries = []\n",
    "\n",
    "for country in countries_list:\n",
    "    df_country = df[df[\"COUNTRY\"]== country]\n",
    "    time_span = df_country[\"DATEINTR\"].max()-df_country[\"DATEINTR\"].min()\n",
    "    if time_span.days<4383:\n",
    "        drop_countries.append(country)\n"
   ]
  },
  {
   "attachments": {},
   "cell_type": "markdown",
   "metadata": {},
   "source": [
    "#### **Drop the rows of the countries where the dates of interviews span less than 12 years**"
   ]
  },
  {
   "cell_type": "code",
   "execution_count": 12,
   "metadata": {},
   "outputs": [],
   "source": [
    "for country in drop_countries:\n",
    "    index_country = df[(df['COUNTRY'] == country)].index\n",
    "    df.drop(index_country , inplace=True)"
   ]
  },
  {
   "attachments": {},
   "cell_type": "markdown",
   "metadata": {},
   "source": [
    "#### **Create the distance variable**\n",
    "This will be the distance between the interview date and the next presidential, general, legislative or parlimentary election"
   ]
  },
  {
   "cell_type": "code",
   "execution_count": 13,
   "metadata": {},
   "outputs": [],
   "source": [
    "election_type = ['Presidential', 'General', 'Legislative', 'Parliamentary']\n",
    "def next_presidential_general_date(r):\n",
    "    country = r[\"COUNTRY\"]\n",
    "    itrdate = r[\"DATEINTR\"]\n",
    "    country_elections_1 = df_elections[df_elections[\"Country\"] == country]\n",
    "    country_elections_2 = country_elections_1[country_elections_1[\"Election_type\"].isin(election_type)]\n",
    "    country_elections_2[\"Dif\"] = country_elections_2[\"Date\"] - itrdate\n",
    "    country_elections_2.sort_values(by=\"Dif\",inplace=True)\n",
    "    return country_elections_2[country_elections_2[\"Dif\"] > Timedelta(0)].iloc[0][\"Dif\"]\n",
    "      \n",
    "df[\"Days_until_election\"] = df.apply(next_presidential_general_date,axis=1)"
   ]
  },
  {
   "attachments": {},
   "cell_type": "markdown",
   "metadata": {},
   "source": [
    "#### **Create Quarters until election variable**"
   ]
  },
  {
   "cell_type": "code",
   "execution_count": 14,
   "metadata": {},
   "outputs": [],
   "source": [
    "df[\"Quarters_until_election\"] = df[\"Days_until_election\"].dt.days/(365.25/4)\n",
    "df[\"Quarters_until_election\"] = df[\"Quarters_until_election\"].apply(np.floor).astype(int)"
   ]
  },
  {
   "attachments": {},
   "cell_type": "markdown",
   "metadata": {},
   "source": [
    "#### **Create Mean variables for the different media types by country and quarters until the next election**\n"
   ]
  },
  {
   "cell_type": "code",
   "execution_count": 15,
   "metadata": {},
   "outputs": [],
   "source": [
    "df_means = pd.DataFrame(columns=['COUNTRY', 'Quarters_until_election', 'Radio', 'TV', 'Newspaper', 'Internet',\n",
    "                                  'Social Media', \"All\"])\n",
    "df_means_index = 0\n",
    "\n",
    "media_types = [\"Radio\",\"Television\",\"Newspaper\",\"Internet\",\"Social_Media\"]\n",
    "\n",
    "for country in df[\"COUNTRY\"].unique():\n",
    "    df_country = df[df[\"COUNTRY\"] == country]\n",
    "\n",
    "    means = []\n",
    "    for mt in media_types:\n",
    "        means.append(df_country.groupby(['Quarters_until_election'], dropna=True)[mt].mean())\n",
    "    \n",
    "    for j in range(len(means[0])):\n",
    "        df_row = [country]\n",
    "        df_row.append(j+1)\n",
    "\n",
    "        sum = 0\n",
    "        n_sum = 0\n",
    "        for media_means in means:\n",
    "            df_row.append(media_means.iloc[j])\n",
    "\n",
    "            # Compute mean for all available media\n",
    "            if not pd.isna(media_means.iloc[j]):\n",
    "                sum += media_means.iloc[j]\n",
    "                n_sum += 1\n",
    "        df_row.append(sum/n_sum)\n",
    "\n",
    "        df_means.loc[df_means_index] = df_row\n",
    "        df_means_index += 1"
   ]
  },
  {
   "attachments": {},
   "cell_type": "markdown",
   "metadata": {},
   "source": [
    "#### **Create the visualizations**"
   ]
  },
  {
   "cell_type": "code",
   "execution_count": 16,
   "metadata": {},
   "outputs": [],
   "source": [
    "%matplotlib widget\n",
    "import matplotlib.pyplot as plt\n",
    "from ipywidgets import *"
   ]
  },
  {
   "cell_type": "code",
   "execution_count": 52,
   "metadata": {},
   "outputs": [
    {
     "data": {
      "application/vnd.jupyter.widget-view+json": {
       "model_id": "b3b9fa7de85244b9bdda3dbb5b7e5822",
       "version_major": 2,
       "version_minor": 0
      },
      "text/plain": [
       "VBox(children=(Dropdown(description='Country', options=('All', 'Cabo Verde', 'Ghana', 'Kenya', 'Lesotho', 'Mad…"
      ]
     },
     "execution_count": 52,
     "metadata": {},
     "output_type": "execute_result"
    },
    {
     "data": {
      "application/vnd.jupyter.widget-view+json": {
       "model_id": "613a006f4064464d8e546d60d6c95c03",
       "version_major": 2,
       "version_minor": 0
      },
      "image/png": "[encoded data removed]",
      "text/html": [
       "\n",
       "            <div style=\"display: inline-block;\">\n",
       "                <div class=\"jupyter-widgets widget-label\" style=\"text-align: center;\">\n",
       "                    Figure\n",
       "                </div>\n",
       "                <img src='data:image/png;base64,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' width=640.0/>\n",
       "            </div>\n",
       "        "
      ],
      "text/plain": [
       "Canvas(toolbar=Toolbar(toolitems=[('Home', 'Reset original view', 'home', 'home'), ('Back', 'Back to previous …"
      ]
     },
     "metadata": {},
     "output_type": "display_data"
    }
   ],
   "source": [
    "fig, ax = plt.subplots()\n",
    "fig.suptitle('Proximity to elections and media consumption', fontsize=10)\n",
    "plt.ylabel(\"Mean consumption of media\")\n",
    "plt.xlabel(\"Quarters until next election\")\n",
    "\n",
    "line, = ax.plot(df_means[\"Quarters_until_election\"],df_means[\"All\"], \"bo\")\n",
    "\n",
    "country = \"All\"\n",
    "media = \"All\"\n",
    "\n",
    "def update():\n",
    "\n",
    "    global country\n",
    "    global media\n",
    "\n",
    "    if country == \"All\":\n",
    "        df_country = df_means\n",
    "    else:\n",
    "        df_country = df_means[df_means[\"COUNTRY\"] == country]\n",
    "\n",
    "    line.set_data(df_country[\"Quarters_until_election\"],df_country[media])\n",
    "\n",
    "    plt.constrained_layout()\n",
    "    #fig.canvas.draw(Layout=plt.tight_layout())\n",
    "    fig.canvas.draw()\n",
    "\n",
    "\n",
    "def update_country(ucountry = 'All'):\n",
    "    global country\n",
    "    country = ucountry.new\n",
    "    update()\n",
    "\n",
    "def update_media(umedia = \"All\"):\n",
    "    global media\n",
    "    media = umedia.new\n",
    "    update()\n",
    "\n",
    "\n",
    "dropdown_country = widgets.Dropdown(\n",
    "    value = 'All', \n",
    "    options = sorted(np.append(df[\"COUNTRY\"].unique(),[\"All\"])),\n",
    "    description = 'Country'\n",
    ")\n",
    "\n",
    "dropdown_media = widgets.Dropdown(\n",
    "    value = \"All\",\n",
    "    options = sorted(['Radio', 'TV', 'Newspaper', 'Internet', 'Social Media', \"All\"]),\n",
    "    description = \"Media source\"   \n",
    ")\n",
    "\n",
    "\n",
    "dropdown_country.observe(update_country, \"value\")\n",
    "dropdown_media.observe(update_media,\"value\")\n",
    "\n",
    "\n",
    "\n",
    "widgets.VBox(\n",
    "    [\n",
    "        dropdown_country,\n",
    "        dropdown_media\n",
    "    ]\n",
    ")\n",
    "\n"
   ]
  }
 ],
 "metadata": {
  "kernelspec": {
   "display_name": "Python 3",
   "language": "python",
   "name": "python3"
  },
  "language_info": {
   "codemirror_mode": {
    "name": "ipython",
    "version": 3
   },
   "file_extension": ".py",
   "mimetype": "text/x-python",
   "name": "python",
   "nbconvert_exporter": "python",
   "pygments_lexer": "ipython3",
   "version": "3.11.0"
  },
  "orig_nbformat": 4,
  "vscode": {
   "interpreter": {
    "hash": "61a3d11bd47f39628cb056bcb43f784eeafc9c3cee8b202189683def1803e43f"
   }
  }
 },
 "nbformat": 4,
 "nbformat_minor": 2
}
