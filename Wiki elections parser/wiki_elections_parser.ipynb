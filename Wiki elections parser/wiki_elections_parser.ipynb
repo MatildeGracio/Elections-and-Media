{
 "cells": [
  {
   "cell_type": "code",
   "execution_count": 1,
   "metadata": {},
   "outputs": [],
   "source": [
    "import requests\n",
    "from bs4 import BeautifulSoup"
   ]
  },
  {
   "attachments": {},
   "cell_type": "markdown",
   "metadata": {},
   "source": [
    "#### **Import the Afrobarometer dataset to create a list of the countries**\n",
    "1. Import the dataset\n",
    "2. Run the names through coco to uniformize country names\n",
    "3. Create a series with the countries names"
   ]
  },
  {
   "cell_type": "code",
   "execution_count": 31,
   "metadata": {},
   "outputs": [],
   "source": []
  },
  {
   "attachments": {},
   "cell_type": "markdown",
   "metadata": {},
   "source": [
    "#### **Retrieve data from Wikipedia**\n",
    "The information about elections on the wikipedia pages vary considerably in format depending on the year. "
   ]
  },
  {
   "cell_type": "code",
   "execution_count": 33,
   "metadata": {},
   "outputs": [],
   "source": [
    "years = [\"2016\"]\n",
    "election_types = [\"presidential election\",\"municipal election\", \"general election\", \"constitutional referendum\", \"gubernatorial election\"]\n",
    "countries = [\"Benin Republic\",\"Cape Verde\",\"Chad\", \"Djibouti\",\"Equatorial Guinea\",\"The Gambia\", \"Gabon\", \"Ghana\", \"Morocco\", \"Niger\", \"Nigeria\",\n",
    "             \"Republic of Congo\",\"São Tomé e Príncipe\", \"Senegal\", \"Seychelles\", \"South Africa\", \"Somalia\", \"The Gambia\", \"Uganda\", \"Zambia\"]\n",
    "elect_by_country = {}\n",
    "\n",
    "\n",
    "for country in countries:\n",
    "    for year in years:\n",
    "\n",
    "        r = requests.get(\"https://en.wikipedia.org/wiki/List_of_elections_in_\"+year)\n",
    "        soup = BeautifulSoup(r.content)\n",
    "          \n",
    "\n",
    "        gfg = soup.find_all(lambda tag: tag.name == \"span\" and country in tag.text)\n",
    "        if len(gfg) > 1:\n",
    "            break\n",
    "\n",
    "        elif len(gfg) == 0:\n",
    "            continue\n",
    "\n",
    "        else:\n",
    "            country_tag = gfg[0]\n",
    "\n",
    "        parent_country_tag = country_tag.find_previous()\n",
    "        election_tag = parent_country_tag.find_next_sibling()\n",
    "\n",
    "        election_type = \"NONE\"\n",
    "        for etype in election_types:\n",
    "            if len(election_tag.find_all(lambda tag : tag.name == \"a\" and etype in tag.text)):\n",
    "                election_type = etype\n",
    "\n",
    "        date_tag = election_tag.find_next(\"li\")\n",
    "        c = date_tag.children\n",
    "        get_n = 1\n",
    "        for child in c:\n",
    "            if get_n == 0:\n",
    "                date_text = child\n",
    "            else:\n",
    "                get_n-=1\n",
    "\n",
    "\n",
    "        if country not in elect_by_country.keys():\n",
    "            elect_by_country[country] = []\n",
    "\n",
    "        elect_by_country[country].append((election_type,date_text))\n",
    "        \n"
   ]
  },
  {
   "cell_type": "code",
   "execution_count": 34,
   "metadata": {},
   "outputs": [],
   "source": [
    "df_2016 = pd.DataFrame(columns=[\"Country\",\"Election_type\",\"Date\"])\n",
    "df_2016[\"Date\"] = pd.to_datetime(df_2016[\"Date\"])\n",
    "\n",
    "for key in elect_by_country:\n",
    "    for t in elect_by_country[key]:\n",
    "        df_2016.loc[len(df_2016.index)] = (key,t[0],t[1])"
   ]
  },
  {
   "attachments": {},
   "cell_type": "markdown",
   "metadata": {},
   "source": [
    "##### Now we get the rest of the data from wikipedia for the rest of the years\n",
    "\n",
    "\n",
    "   "
   ]
  },
  {
   "cell_type": "code",
   "execution_count": 36,
   "metadata": {},
   "outputs": [],
   "source": [
    "import pandas as pd\n",
    "import country_converter as coco\n",
    "df = pd.read_spss(\"../Afrobarometer/r7_merged.sav\",usecols=[\"COUNTRY\"])\n",
    "df[\"COUNTRY\"] = coco.convert(names=df.COUNTRY.tolist(), to='name_short', not_found = None)\n",
    "countries = df[\"COUNTRY\"]"
   ]
  },
  {
   "cell_type": "code",
   "execution_count": 37,
   "metadata": {},
   "outputs": [
    {
     "name": "stderr",
     "output_type": "stream",
     "text": [
      "Malian not found in regex\n",
      "Malian not found in regex\n",
      "Malian not found in regex\n",
      "Swazi not found in regex\n"
     ]
    }
   ],
   "source": [
    "import requests\n",
    "from bs4 import BeautifulSoup\n",
    "from fuzzywuzzy import process\n",
    "\n",
    "election_by_country = []\n",
    "\n",
    "years = [2013,2015,2017,2018]\n",
    "\n",
    "df = pd.DataFrame(columns=[\"Country\",\"Election_type\",\"Date\"])\n",
    "\n",
    "for year in years:\n",
    "   r_all = requests.get(\"https://en.wikipedia.org/wiki/List_of_elections_in_\"+str(year))\n",
    "   soup_all = BeautifulSoup(r_all.content)\n",
    "   \n",
    "   soup_first_country = soup_all.find(lambda tag: tag.name == \"li\" and len(list(tag.parents)) == 11 and not tag.has_attr(\"class\"))\n",
    "\n",
    "   soup_current_continent = soup_first_country.parent\n",
    "   current_continent = soup_current_continent.previous_sibling.previous_sibling.text.split(\"[\")[0]\n",
    "   \n",
    "   while (current_continent != \"Africa\"):\n",
    "      soup_current_continent = soup_current_continent.next_sibling.next_sibling.next_sibling.next_sibling\n",
    "      current_continent = soup_current_continent.previous_sibling.previous_sibling.text.split(\"[\")[0]\n",
    "\n",
    "\n",
    "   election_types = [\"referendum\",\"elections\",\"assembly\",\"election\"]\n",
    "\n",
    "   for soup_country in soup_current_continent:\n",
    "      if \"\" == soup_country.text.strip():\n",
    "         continue\n",
    "\n",
    "      for etype in election_types:\n",
    "\n",
    "         if soup_country.text.__contains__(etype) or etype == \"election\":\n",
    "            t = soup_country.text.split(etype)[0].split()\n",
    "            t_election = t[-1] + \" \" + etype\n",
    "            t_country = t[1:-1]      \n",
    "            t_date = soup_country.text.split(etype)[1]\n",
    "            t_date = t_date.strip()\n",
    "            if t_date.__contains__(\"and\"):\n",
    "               if len(t_date.split(\" \")) == 7:\n",
    "                  t_date = t_date.split(\" \")[0]+str(\" \")+t_date.split(\" \")[1]+str(\" \")+t_date.split(\" \")[2]\n",
    "               if len(t_date.split(\" \")) == 6:\n",
    "                  t_date = t_date.split(\" \")[0]+str(\" \")+t_date.split(\" \")[1]+str(\" \")+t_date.split(\" \")[5]\n",
    "               if len(t_date.split(\" \")) == 5:\n",
    "                  t_date = t_date.split(\" \")[0]+str(\" \")+t_date.split(\" \")[3]+str(\" \")+t_date.split(\" \")[4]  \n",
    "            break\n",
    "      \n",
    "      s = \"\"\n",
    "      for text in t_country:\n",
    "          s += text + \" \"\n",
    "      s = s[:-1]\n",
    "\n",
    "      s = s.replace(\"Central African\", \"Central African Republic\")\n",
    "      s = s.replace(\"Comorian\", \"Comoros\")\n",
    "      s = s.replace(\"Ivorian\", \"Cote d'Ivoire\")\n",
    "\n",
    "      if s == \"Somaliland\":\n",
    "         standard_name = s\n",
    "      else:\n",
    "         standard_name = coco.convert(names=s, to='name_short')\n",
    "\n",
    "      if standard_name == \"not found\":\n",
    "         choice = process.extractOne(s,countries)\n",
    "         standard_name = choice[0]\n",
    "\n",
    "      if t_date.__contains__(\"–\"):\n",
    "         t_date = t_date.split(\"–\")[0]+str(\" \")+t_date.split(\"–\")[1].split()[1] +str(\" \")+t_date.split(\"–\")[1].split()[2]\n",
    "      \n",
    "      standard_name = standard_name.strip()\n",
    "      t_election = t_election.strip()\n",
    "      t_date = t_date.strip()\n",
    "      row = [standard_name, t_election, t_date]\n",
    "      df.loc[len(df.index)] = row"
   ]
  },
  {
   "attachments": {},
   "cell_type": "markdown",
   "metadata": {},
   "source": [
    "Fix by hand of the election date of the Democratic Republic of the Congo general election, 2018 30 December 2018"
   ]
  },
  {
   "cell_type": "code",
   "execution_count": 38,
   "metadata": {},
   "outputs": [],
   "source": [
    "df = df.replace(', 2018 30 December 2018','30 December 2018', regex=True)\n",
    "df['Date']=pd.to_datetime(df['Date'])"
   ]
  },
  {
   "attachments": {},
   "cell_type": "markdown",
   "metadata": {},
   "source": [
    "####**Put together and write to file the retrived data for 2013, 2015, 2016, 2017, and 2018**"
   ]
  },
  {
   "cell_type": "code",
   "execution_count": 39,
   "metadata": {},
   "outputs": [],
   "source": [
    "df_final = pd.concat([df, df_2016])\n",
    "df_final['Date']=pd.to_datetime(df['Date'])\n",
    "df_final.to_parquet(\"election_dates_wiki.parquet\")"
   ]
  }
 ],
 "metadata": {
  "kernelspec": {
   "display_name": "Python 3",
   "language": "python",
   "name": "python3"
  },
  "language_info": {
   "codemirror_mode": {
    "name": "ipython",
    "version": 3
   },
   "file_extension": ".py",
   "mimetype": "text/x-python",
   "name": "python",
   "nbconvert_exporter": "python",
   "pygments_lexer": "ipython3",
   "version": "3.11.0"
  },
  "orig_nbformat": 4,
  "vscode": {
   "interpreter": {
    "hash": "61a3d11bd47f39628cb056bcb43f784eeafc9c3cee8b202189683def1803e43f"
   }
  }
 },
 "nbformat": 4,
 "nbformat_minor": 2
}
